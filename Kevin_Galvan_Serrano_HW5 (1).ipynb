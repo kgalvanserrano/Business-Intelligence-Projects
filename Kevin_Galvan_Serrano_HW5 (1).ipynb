{
  "cells": [
    {
      "cell_type": "markdown",
      "metadata": {
        "id": "2L04OiZe07o0"
      },
      "source": [
        "# Correlation Analysis\n",
        "\n",
        "Correlation refers to the degree to which two variables are associated or related with each other. Many statistical models operate under the assumption that your features (variables) are independent of each other, so we must statistically check whether this is true. We'll walk through some examples to get a better understanding of it."
      ]
    },
    {
      "cell_type": "markdown",
      "metadata": {
        "id": "wte1Jv8d07pC"
      },
      "source": [
        "# PART 1\n",
        "## Let's first start by creating a random dataset (we'll work with the heating oil company case later in this notebook)"
      ]
    },
    {
      "cell_type": "code",
      "execution_count": 115,
      "metadata": {
        "id": "NKWyeS-M07pJ"
      },
      "outputs": [],
      "source": [
        "# Import necessary libraries\n",
        "import pandas as pd\n",
        "import numpy as np\n",
        "\n",
        "# Setting a seed so the example is reproducible \n",
        "np.random.seed(42)\n",
        "\n",
        "# Create a pandas data frame named df containing random mumbers between 0 and 50 in 10 rows and 2 columns\n",
        "# This random data represents how many times a specific ad link was clicked and the corresponding purchases made\n",
        "\n",
        "df = pd.DataFrame(np.random.randint(0,50, size= (10, 2)), \n",
        "                  columns= ['ad_clicks', 'products_purchased']) "
      ]
    },
    {
      "cell_type": "code",
      "execution_count": 116,
      "metadata": {
        "colab": {
          "base_uri": "https://localhost:8080/",
          "height": 363
        },
        "id": "NSeEJyp007pP",
        "outputId": "1b5abec3-89e5-4606-dfe3-3fe7423cea27"
      },
      "outputs": [
        {
          "output_type": "execute_result",
          "data": {
            "text/html": [
              "\n",
              "  <div id=\"df-b7f3eb87-553c-4529-9415-3c064fe54efa\">\n",
              "    <div class=\"colab-df-container\">\n",
              "      <div>\n",
              "<style scoped>\n",
              "    .dataframe tbody tr th:only-of-type {\n",
              "        vertical-align: middle;\n",
              "    }\n",
              "\n",
              "    .dataframe tbody tr th {\n",
              "        vertical-align: top;\n",
              "    }\n",
              "\n",
              "    .dataframe thead th {\n",
              "        text-align: right;\n",
              "    }\n",
              "</style>\n",
              "<table border=\"1\" class=\"dataframe\">\n",
              "  <thead>\n",
              "    <tr style=\"text-align: right;\">\n",
              "      <th></th>\n",
              "      <th>ad_clicks</th>\n",
              "      <th>products_purchased</th>\n",
              "    </tr>\n",
              "  </thead>\n",
              "  <tbody>\n",
              "    <tr>\n",
              "      <th>0</th>\n",
              "      <td>38</td>\n",
              "      <td>28</td>\n",
              "    </tr>\n",
              "    <tr>\n",
              "      <th>1</th>\n",
              "      <td>14</td>\n",
              "      <td>42</td>\n",
              "    </tr>\n",
              "    <tr>\n",
              "      <th>2</th>\n",
              "      <td>7</td>\n",
              "      <td>20</td>\n",
              "    </tr>\n",
              "    <tr>\n",
              "      <th>3</th>\n",
              "      <td>38</td>\n",
              "      <td>18</td>\n",
              "    </tr>\n",
              "    <tr>\n",
              "      <th>4</th>\n",
              "      <td>22</td>\n",
              "      <td>10</td>\n",
              "    </tr>\n",
              "    <tr>\n",
              "      <th>5</th>\n",
              "      <td>10</td>\n",
              "      <td>23</td>\n",
              "    </tr>\n",
              "    <tr>\n",
              "      <th>6</th>\n",
              "      <td>35</td>\n",
              "      <td>39</td>\n",
              "    </tr>\n",
              "    <tr>\n",
              "      <th>7</th>\n",
              "      <td>23</td>\n",
              "      <td>2</td>\n",
              "    </tr>\n",
              "    <tr>\n",
              "      <th>8</th>\n",
              "      <td>21</td>\n",
              "      <td>1</td>\n",
              "    </tr>\n",
              "    <tr>\n",
              "      <th>9</th>\n",
              "      <td>23</td>\n",
              "      <td>43</td>\n",
              "    </tr>\n",
              "  </tbody>\n",
              "</table>\n",
              "</div>\n",
              "      <button class=\"colab-df-convert\" onclick=\"convertToInteractive('df-b7f3eb87-553c-4529-9415-3c064fe54efa')\"\n",
              "              title=\"Convert this dataframe to an interactive table.\"\n",
              "              style=\"display:none;\">\n",
              "        \n",
              "  <svg xmlns=\"http://www.w3.org/2000/svg\" height=\"24px\"viewBox=\"0 0 24 24\"\n",
              "       width=\"24px\">\n",
              "    <path d=\"M0 0h24v24H0V0z\" fill=\"none\"/>\n",
              "    <path d=\"M18.56 5.44l.94 2.06.94-2.06 2.06-.94-2.06-.94-.94-2.06-.94 2.06-2.06.94zm-11 1L8.5 8.5l.94-2.06 2.06-.94-2.06-.94L8.5 2.5l-.94 2.06-2.06.94zm10 10l.94 2.06.94-2.06 2.06-.94-2.06-.94-.94-2.06-.94 2.06-2.06.94z\"/><path d=\"M17.41 7.96l-1.37-1.37c-.4-.4-.92-.59-1.43-.59-.52 0-1.04.2-1.43.59L10.3 9.45l-7.72 7.72c-.78.78-.78 2.05 0 2.83L4 21.41c.39.39.9.59 1.41.59.51 0 1.02-.2 1.41-.59l7.78-7.78 2.81-2.81c.8-.78.8-2.07 0-2.86zM5.41 20L4 18.59l7.72-7.72 1.47 1.35L5.41 20z\"/>\n",
              "  </svg>\n",
              "      </button>\n",
              "      \n",
              "  <style>\n",
              "    .colab-df-container {\n",
              "      display:flex;\n",
              "      flex-wrap:wrap;\n",
              "      gap: 12px;\n",
              "    }\n",
              "\n",
              "    .colab-df-convert {\n",
              "      background-color: #E8F0FE;\n",
              "      border: none;\n",
              "      border-radius: 50%;\n",
              "      cursor: pointer;\n",
              "      display: none;\n",
              "      fill: #1967D2;\n",
              "      height: 32px;\n",
              "      padding: 0 0 0 0;\n",
              "      width: 32px;\n",
              "    }\n",
              "\n",
              "    .colab-df-convert:hover {\n",
              "      background-color: #E2EBFA;\n",
              "      box-shadow: 0px 1px 2px rgba(60, 64, 67, 0.3), 0px 1px 3px 1px rgba(60, 64, 67, 0.15);\n",
              "      fill: #174EA6;\n",
              "    }\n",
              "\n",
              "    [theme=dark] .colab-df-convert {\n",
              "      background-color: #3B4455;\n",
              "      fill: #D2E3FC;\n",
              "    }\n",
              "\n",
              "    [theme=dark] .colab-df-convert:hover {\n",
              "      background-color: #434B5C;\n",
              "      box-shadow: 0px 1px 3px 1px rgba(0, 0, 0, 0.15);\n",
              "      filter: drop-shadow(0px 1px 2px rgba(0, 0, 0, 0.3));\n",
              "      fill: #FFFFFF;\n",
              "    }\n",
              "  </style>\n",
              "\n",
              "      <script>\n",
              "        const buttonEl =\n",
              "          document.querySelector('#df-b7f3eb87-553c-4529-9415-3c064fe54efa button.colab-df-convert');\n",
              "        buttonEl.style.display =\n",
              "          google.colab.kernel.accessAllowed ? 'block' : 'none';\n",
              "\n",
              "        async function convertToInteractive(key) {\n",
              "          const element = document.querySelector('#df-b7f3eb87-553c-4529-9415-3c064fe54efa');\n",
              "          const dataTable =\n",
              "            await google.colab.kernel.invokeFunction('convertToInteractive',\n",
              "                                                     [key], {});\n",
              "          if (!dataTable) return;\n",
              "\n",
              "          const docLinkHtml = 'Like what you see? Visit the ' +\n",
              "            '<a target=\"_blank\" href=https://colab.research.google.com/notebooks/data_table.ipynb>data table notebook</a>'\n",
              "            + ' to learn more about interactive tables.';\n",
              "          element.innerHTML = '';\n",
              "          dataTable['output_type'] = 'display_data';\n",
              "          await google.colab.output.renderOutput(dataTable, element);\n",
              "          const docLink = document.createElement('div');\n",
              "          docLink.innerHTML = docLinkHtml;\n",
              "          element.appendChild(docLink);\n",
              "        }\n",
              "      </script>\n",
              "    </div>\n",
              "  </div>\n",
              "  "
            ],
            "text/plain": [
              "   ad_clicks  products_purchased\n",
              "0         38                  28\n",
              "1         14                  42\n",
              "2          7                  20\n",
              "3         38                  18\n",
              "4         22                  10\n",
              "5         10                  23\n",
              "6         35                  39\n",
              "7         23                   2\n",
              "8         21                   1\n",
              "9         23                  43"
            ]
          },
          "metadata": {},
          "execution_count": 116
        }
      ],
      "source": [
        "df"
      ]
    },
    {
      "cell_type": "markdown",
      "metadata": {
        "id": "weKrMadz07pT"
      },
      "source": [
        "## Correlation\n",
        "Correlation measures a linear relationship between two features, most commonly using Pearson's Correlation Coefficient as the test metric. \n",
        "\n",
        "We can calculate correlation as: \n",
        " ![correlation.png](attachment:correlation.png)"
      ]
    },
    {
      "cell_type": "markdown",
      "metadata": {
        "id": "z-luvj-T07pU"
      },
      "source": [
        "The correlation is basically just a standardized version of the covariance where we are dividing the sum of difference by the product of each feature's standard deviation. \n",
        "\n",
        "### Properties of Correlation\n",
        "Dividing the standard deviation standardizes the results to a range between -1 and 1, with: \n",
        "- -1 meaning that there is a strong negative relationship when one feature goes up, the other goes down\n",
        "- +1 meaning that there is a strong positive relationshipo between features, whene one goes up, the other goes up\n",
        "- 0, as with covariance, means there is no relationship\n",
        "- If the features have been normalized, covariance and correlation are equal\n",
        "\n",
        "We can calculate this in python as: "
      ]
    },
    {
      "cell_type": "code",
      "execution_count": 117,
      "metadata": {
        "colab": {
          "base_uri": "https://localhost:8080/",
          "height": 112
        },
        "id": "BXpNAWj507pV",
        "outputId": "c9ac4234-3981-4029-87f1-49a70be3ee59"
      },
      "outputs": [
        {
          "output_type": "execute_result",
          "data": {
            "text/html": [
              "\n",
              "  <div id=\"df-f8207858-0ed0-400f-8544-f7c556567ce3\">\n",
              "    <div class=\"colab-df-container\">\n",
              "      <div>\n",
              "<style scoped>\n",
              "    .dataframe tbody tr th:only-of-type {\n",
              "        vertical-align: middle;\n",
              "    }\n",
              "\n",
              "    .dataframe tbody tr th {\n",
              "        vertical-align: top;\n",
              "    }\n",
              "\n",
              "    .dataframe thead th {\n",
              "        text-align: right;\n",
              "    }\n",
              "</style>\n",
              "<table border=\"1\" class=\"dataframe\">\n",
              "  <thead>\n",
              "    <tr style=\"text-align: right;\">\n",
              "      <th></th>\n",
              "      <th>ad_clicks</th>\n",
              "      <th>products_purchased</th>\n",
              "    </tr>\n",
              "  </thead>\n",
              "  <tbody>\n",
              "    <tr>\n",
              "      <th>ad_clicks</th>\n",
              "      <td>1.000000</td>\n",
              "      <td>0.081661</td>\n",
              "    </tr>\n",
              "    <tr>\n",
              "      <th>products_purchased</th>\n",
              "      <td>0.081661</td>\n",
              "      <td>1.000000</td>\n",
              "    </tr>\n",
              "  </tbody>\n",
              "</table>\n",
              "</div>\n",
              "      <button class=\"colab-df-convert\" onclick=\"convertToInteractive('df-f8207858-0ed0-400f-8544-f7c556567ce3')\"\n",
              "              title=\"Convert this dataframe to an interactive table.\"\n",
              "              style=\"display:none;\">\n",
              "        \n",
              "  <svg xmlns=\"http://www.w3.org/2000/svg\" height=\"24px\"viewBox=\"0 0 24 24\"\n",
              "       width=\"24px\">\n",
              "    <path d=\"M0 0h24v24H0V0z\" fill=\"none\"/>\n",
              "    <path d=\"M18.56 5.44l.94 2.06.94-2.06 2.06-.94-2.06-.94-.94-2.06-.94 2.06-2.06.94zm-11 1L8.5 8.5l.94-2.06 2.06-.94-2.06-.94L8.5 2.5l-.94 2.06-2.06.94zm10 10l.94 2.06.94-2.06 2.06-.94-2.06-.94-.94-2.06-.94 2.06-2.06.94z\"/><path d=\"M17.41 7.96l-1.37-1.37c-.4-.4-.92-.59-1.43-.59-.52 0-1.04.2-1.43.59L10.3 9.45l-7.72 7.72c-.78.78-.78 2.05 0 2.83L4 21.41c.39.39.9.59 1.41.59.51 0 1.02-.2 1.41-.59l7.78-7.78 2.81-2.81c.8-.78.8-2.07 0-2.86zM5.41 20L4 18.59l7.72-7.72 1.47 1.35L5.41 20z\"/>\n",
              "  </svg>\n",
              "      </button>\n",
              "      \n",
              "  <style>\n",
              "    .colab-df-container {\n",
              "      display:flex;\n",
              "      flex-wrap:wrap;\n",
              "      gap: 12px;\n",
              "    }\n",
              "\n",
              "    .colab-df-convert {\n",
              "      background-color: #E8F0FE;\n",
              "      border: none;\n",
              "      border-radius: 50%;\n",
              "      cursor: pointer;\n",
              "      display: none;\n",
              "      fill: #1967D2;\n",
              "      height: 32px;\n",
              "      padding: 0 0 0 0;\n",
              "      width: 32px;\n",
              "    }\n",
              "\n",
              "    .colab-df-convert:hover {\n",
              "      background-color: #E2EBFA;\n",
              "      box-shadow: 0px 1px 2px rgba(60, 64, 67, 0.3), 0px 1px 3px 1px rgba(60, 64, 67, 0.15);\n",
              "      fill: #174EA6;\n",
              "    }\n",
              "\n",
              "    [theme=dark] .colab-df-convert {\n",
              "      background-color: #3B4455;\n",
              "      fill: #D2E3FC;\n",
              "    }\n",
              "\n",
              "    [theme=dark] .colab-df-convert:hover {\n",
              "      background-color: #434B5C;\n",
              "      box-shadow: 0px 1px 3px 1px rgba(0, 0, 0, 0.15);\n",
              "      filter: drop-shadow(0px 1px 2px rgba(0, 0, 0, 0.3));\n",
              "      fill: #FFFFFF;\n",
              "    }\n",
              "  </style>\n",
              "\n",
              "      <script>\n",
              "        const buttonEl =\n",
              "          document.querySelector('#df-f8207858-0ed0-400f-8544-f7c556567ce3 button.colab-df-convert');\n",
              "        buttonEl.style.display =\n",
              "          google.colab.kernel.accessAllowed ? 'block' : 'none';\n",
              "\n",
              "        async function convertToInteractive(key) {\n",
              "          const element = document.querySelector('#df-f8207858-0ed0-400f-8544-f7c556567ce3');\n",
              "          const dataTable =\n",
              "            await google.colab.kernel.invokeFunction('convertToInteractive',\n",
              "                                                     [key], {});\n",
              "          if (!dataTable) return;\n",
              "\n",
              "          const docLinkHtml = 'Like what you see? Visit the ' +\n",
              "            '<a target=\"_blank\" href=https://colab.research.google.com/notebooks/data_table.ipynb>data table notebook</a>'\n",
              "            + ' to learn more about interactive tables.';\n",
              "          element.innerHTML = '';\n",
              "          dataTable['output_type'] = 'display_data';\n",
              "          await google.colab.output.renderOutput(dataTable, element);\n",
              "          const docLink = document.createElement('div');\n",
              "          docLink.innerHTML = docLinkHtml;\n",
              "          element.appendChild(docLink);\n",
              "        }\n",
              "      </script>\n",
              "    </div>\n",
              "  </div>\n",
              "  "
            ],
            "text/plain": [
              "                    ad_clicks  products_purchased\n",
              "ad_clicks            1.000000            0.081661\n",
              "products_purchased   0.081661            1.000000"
            ]
          },
          "metadata": {},
          "execution_count": 117
        }
      ],
      "source": [
        "df[['ad_clicks', 'products_purchased']].corr()"
      ]
    },
    {
      "cell_type": "code",
      "execution_count": 118,
      "metadata": {
        "colab": {
          "base_uri": "https://localhost:8080/",
          "height": 112
        },
        "id": "oMFa0Mrg07pX",
        "outputId": "2f1ce572-95ff-4353-80a6-5141fbbd5068"
      },
      "outputs": [
        {
          "output_type": "execute_result",
          "data": {
            "text/html": [
              "\n",
              "  <div id=\"df-2650ff2c-6dc8-4541-97cd-ade7ecef96f6\">\n",
              "    <div class=\"colab-df-container\">\n",
              "      <div>\n",
              "<style scoped>\n",
              "    .dataframe tbody tr th:only-of-type {\n",
              "        vertical-align: middle;\n",
              "    }\n",
              "\n",
              "    .dataframe tbody tr th {\n",
              "        vertical-align: top;\n",
              "    }\n",
              "\n",
              "    .dataframe thead th {\n",
              "        text-align: right;\n",
              "    }\n",
              "</style>\n",
              "<table border=\"1\" class=\"dataframe\">\n",
              "  <thead>\n",
              "    <tr style=\"text-align: right;\">\n",
              "      <th></th>\n",
              "      <th>ad_clicks</th>\n",
              "      <th>products_purchased</th>\n",
              "    </tr>\n",
              "  </thead>\n",
              "  <tbody>\n",
              "    <tr>\n",
              "      <th>ad_clicks</th>\n",
              "      <td>1.000000</td>\n",
              "      <td>0.081661</td>\n",
              "    </tr>\n",
              "    <tr>\n",
              "      <th>products_purchased</th>\n",
              "      <td>0.081661</td>\n",
              "      <td>1.000000</td>\n",
              "    </tr>\n",
              "  </tbody>\n",
              "</table>\n",
              "</div>\n",
              "      <button class=\"colab-df-convert\" onclick=\"convertToInteractive('df-2650ff2c-6dc8-4541-97cd-ade7ecef96f6')\"\n",
              "              title=\"Convert this dataframe to an interactive table.\"\n",
              "              style=\"display:none;\">\n",
              "        \n",
              "  <svg xmlns=\"http://www.w3.org/2000/svg\" height=\"24px\"viewBox=\"0 0 24 24\"\n",
              "       width=\"24px\">\n",
              "    <path d=\"M0 0h24v24H0V0z\" fill=\"none\"/>\n",
              "    <path d=\"M18.56 5.44l.94 2.06.94-2.06 2.06-.94-2.06-.94-.94-2.06-.94 2.06-2.06.94zm-11 1L8.5 8.5l.94-2.06 2.06-.94-2.06-.94L8.5 2.5l-.94 2.06-2.06.94zm10 10l.94 2.06.94-2.06 2.06-.94-2.06-.94-.94-2.06-.94 2.06-2.06.94z\"/><path d=\"M17.41 7.96l-1.37-1.37c-.4-.4-.92-.59-1.43-.59-.52 0-1.04.2-1.43.59L10.3 9.45l-7.72 7.72c-.78.78-.78 2.05 0 2.83L4 21.41c.39.39.9.59 1.41.59.51 0 1.02-.2 1.41-.59l7.78-7.78 2.81-2.81c.8-.78.8-2.07 0-2.86zM5.41 20L4 18.59l7.72-7.72 1.47 1.35L5.41 20z\"/>\n",
              "  </svg>\n",
              "      </button>\n",
              "      \n",
              "  <style>\n",
              "    .colab-df-container {\n",
              "      display:flex;\n",
              "      flex-wrap:wrap;\n",
              "      gap: 12px;\n",
              "    }\n",
              "\n",
              "    .colab-df-convert {\n",
              "      background-color: #E8F0FE;\n",
              "      border: none;\n",
              "      border-radius: 50%;\n",
              "      cursor: pointer;\n",
              "      display: none;\n",
              "      fill: #1967D2;\n",
              "      height: 32px;\n",
              "      padding: 0 0 0 0;\n",
              "      width: 32px;\n",
              "    }\n",
              "\n",
              "    .colab-df-convert:hover {\n",
              "      background-color: #E2EBFA;\n",
              "      box-shadow: 0px 1px 2px rgba(60, 64, 67, 0.3), 0px 1px 3px 1px rgba(60, 64, 67, 0.15);\n",
              "      fill: #174EA6;\n",
              "    }\n",
              "\n",
              "    [theme=dark] .colab-df-convert {\n",
              "      background-color: #3B4455;\n",
              "      fill: #D2E3FC;\n",
              "    }\n",
              "\n",
              "    [theme=dark] .colab-df-convert:hover {\n",
              "      background-color: #434B5C;\n",
              "      box-shadow: 0px 1px 3px 1px rgba(0, 0, 0, 0.15);\n",
              "      filter: drop-shadow(0px 1px 2px rgba(0, 0, 0, 0.3));\n",
              "      fill: #FFFFFF;\n",
              "    }\n",
              "  </style>\n",
              "\n",
              "      <script>\n",
              "        const buttonEl =\n",
              "          document.querySelector('#df-2650ff2c-6dc8-4541-97cd-ade7ecef96f6 button.colab-df-convert');\n",
              "        buttonEl.style.display =\n",
              "          google.colab.kernel.accessAllowed ? 'block' : 'none';\n",
              "\n",
              "        async function convertToInteractive(key) {\n",
              "          const element = document.querySelector('#df-2650ff2c-6dc8-4541-97cd-ade7ecef96f6');\n",
              "          const dataTable =\n",
              "            await google.colab.kernel.invokeFunction('convertToInteractive',\n",
              "                                                     [key], {});\n",
              "          if (!dataTable) return;\n",
              "\n",
              "          const docLinkHtml = 'Like what you see? Visit the ' +\n",
              "            '<a target=\"_blank\" href=https://colab.research.google.com/notebooks/data_table.ipynb>data table notebook</a>'\n",
              "            + ' to learn more about interactive tables.';\n",
              "          element.innerHTML = '';\n",
              "          dataTable['output_type'] = 'display_data';\n",
              "          await google.colab.output.renderOutput(dataTable, element);\n",
              "          const docLink = document.createElement('div');\n",
              "          docLink.innerHTML = docLinkHtml;\n",
              "          element.appendChild(docLink);\n",
              "        }\n",
              "      </script>\n",
              "    </div>\n",
              "  </div>\n",
              "  "
            ],
            "text/plain": [
              "                    ad_clicks  products_purchased\n",
              "ad_clicks            1.000000            0.081661\n",
              "products_purchased   0.081661            1.000000"
            ]
          },
          "metadata": {},
          "execution_count": 118
        }
      ],
      "source": [
        "# Also, we can calculate correlation using the corr() function with the data frame\n",
        "\n",
        "df.corr()"
      ]
    },
    {
      "cell_type": "markdown",
      "metadata": {
        "id": "EGfXfzY507pb"
      },
      "source": [
        "### Correlation Matrix\n",
        "The above correlation matrix shows that a variable is perfectly correlated with itself at a value of 1, and very weakly correlated with the other feature with an R^2 (Pearon's Correlation Coeff) of .08. \n",
        "\n",
        "We can also create a heatmap of the correlation, which in larger datasets makes the relationships easier to see: "
      ]
    },
    {
      "cell_type": "code",
      "execution_count": 119,
      "metadata": {
        "colab": {
          "base_uri": "https://localhost:8080/",
          "height": 112
        },
        "id": "EtmbSIWP07pc",
        "outputId": "630b2824-5014-4754-bc2a-61418306db0b"
      },
      "outputs": [
        {
          "output_type": "execute_result",
          "data": {
            "text/html": [
              "<style type=\"text/css\">\n",
              "#T_696ab_row0_col0, #T_696ab_row1_col1 {\n",
              "  background-color: #b40426;\n",
              "  color: #f1f1f1;\n",
              "}\n",
              "#T_696ab_row0_col1, #T_696ab_row1_col0 {\n",
              "  background-color: #3b4cc0;\n",
              "  color: #f1f1f1;\n",
              "}\n",
              "</style>\n",
              "<table id=\"T_696ab_\" class=\"dataframe\">\n",
              "  <thead>\n",
              "    <tr>\n",
              "      <th class=\"blank level0\" >&nbsp;</th>\n",
              "      <th class=\"col_heading level0 col0\" >ad_clicks</th>\n",
              "      <th class=\"col_heading level0 col1\" >products_purchased</th>\n",
              "    </tr>\n",
              "  </thead>\n",
              "  <tbody>\n",
              "    <tr>\n",
              "      <th id=\"T_696ab_level0_row0\" class=\"row_heading level0 row0\" >ad_clicks</th>\n",
              "      <td id=\"T_696ab_row0_col0\" class=\"data row0 col0\" >1.000000</td>\n",
              "      <td id=\"T_696ab_row0_col1\" class=\"data row0 col1\" >0.081661</td>\n",
              "    </tr>\n",
              "    <tr>\n",
              "      <th id=\"T_696ab_level0_row1\" class=\"row_heading level0 row1\" >products_purchased</th>\n",
              "      <td id=\"T_696ab_row1_col0\" class=\"data row1 col0\" >0.081661</td>\n",
              "      <td id=\"T_696ab_row1_col1\" class=\"data row1 col1\" >1.000000</td>\n",
              "    </tr>\n",
              "  </tbody>\n",
              "</table>\n"
            ],
            "text/plain": [
              "<pandas.io.formats.style.Styler at 0x7fa026a92e90>"
            ]
          },
          "metadata": {},
          "execution_count": 119
        }
      ],
      "source": [
        "df.corr().style.background_gradient(cmap='coolwarm')"
      ]
    },
    {
      "cell_type": "markdown",
      "metadata": {
        "id": "FCxBgr_w07pd"
      },
      "source": [
        "A better visualization method is to import a popular plotting package called seaborn and plot the output of the correlation matrix: "
      ]
    },
    {
      "cell_type": "code",
      "execution_count": 120,
      "metadata": {
        "colab": {
          "base_uri": "https://localhost:8080/",
          "height": 287
        },
        "id": "WNKUfgX807pf",
        "outputId": "51893388-644b-4472-e7be-a195f076ae81"
      },
      "outputs": [
        {
          "output_type": "execute_result",
          "data": {
            "text/plain": [
              "<matplotlib.axes._subplots.AxesSubplot at 0x7fa026a9d690>"
            ]
          },
          "metadata": {},
          "execution_count": 120
        },
        {
          "output_type": "display_data",
          "data": {
            "image/png": "[encoded data removed]",
            "text/plain": [
              "<Figure size 432x288 with 2 Axes>"
            ]
          },
          "metadata": {
            "needs_background": "light"
          }
        }
      ],
      "source": [
        "import seaborn as sns\n",
        "corr = df.corr()\n",
        "sns.heatmap(corr, \n",
        "            xticklabels=corr.columns.values,\n",
        "            yticklabels=corr.columns.values)"
      ]
    },
    {
      "cell_type": "markdown",
      "metadata": {
        "id": "ogL47EHT07pi"
      },
      "source": [
        "The legend shows us that the colors will be darker with a stronger relationship, and lighter with a weaker relationship "
      ]
    },
    {
      "cell_type": "markdown",
      "metadata": {
        "id": "dlxVOnEL07pj"
      },
      "source": [
        "### Interpreting Correlation\n",
        "Another quick way to view the correlation between two variables is to create a scatterplot. Similar data points should cluster together, and if there is a relationship between two variables, we should see the points grouping together in some kind of pattern: \n",
        "![corr_scatter%20copy.png](attachment:corr_scatter%20copy.png)\n",
        "\n",
        "The top row of this diagram from [Wikipedia](http://wikipedia.org/wiki/Correlation_and_dependence) shows linear relationships with differing correlation coefficients. The second row shows perfect correlations, and the third shows variables that are clearly related but non-linear (aka not a good dataset for linear regression). "
      ]
    },
    {
      "cell_type": "code",
      "execution_count": 121,
      "metadata": {
        "colab": {
          "base_uri": "https://localhost:8080/",
          "height": 282
        },
        "id": "LIJ48H9907pk",
        "outputId": "3c3478e2-de38-4538-edf2-47f5a04e4ed7"
      },
      "outputs": [
        {
          "output_type": "execute_result",
          "data": {
            "text/plain": [
              "<matplotlib.collections.PathCollection at 0x7fa02697c810>"
            ]
          },
          "metadata": {},
          "execution_count": 121
        },
        {
          "output_type": "display_data",
          "data": {
            "image/png": "[encoded data removed]",
            "text/plain": [
              "<Figure size 432x288 with 1 Axes>"
            ]
          },
          "metadata": {
            "needs_background": "light"
          }
        }
      ],
      "source": [
        "# scatter plot for our data frame, df\n",
        "\n",
        "import matplotlib.pyplot as plt\n",
        "%matplotlib inline\n",
        "\n",
        "plt.scatter(df.ad_clicks, df.products_purchased)"
      ]
    },
    {
      "cell_type": "markdown",
      "metadata": {
        "id": "22yikSOu07pl"
      },
      "source": [
        "Above we can clearly see three sets of points clustering together, with two outliers near the top. We can also see that this dataset probably doesn't contain enough samples to answer any real questions. "
      ]
    },
    {
      "cell_type": "markdown",
      "metadata": {
        "id": "UTZn4kRd07pw"
      },
      "source": [
        "# PART 2 - Homework\n",
        "## Correlation Analysis for the Heating Oil Company\n",
        "### This business cases deonstartes how a heating oil company explores relationships between variables related to heating oil consumption. The goal of the company from this analysis, combined with additional analyses is to forecast heating oil demand for the upcoming season so it can prepare for it.\n",
        "\n",
        "<ins>Source of the case</ins>: **Data Mining for the Masses**, by Matthew North: https://rapidminer.com/resource/data-mining-masses/\n",
        "\n",
        "<ins>Data Files</ins>: https://sites.google.com/site/dataminingforthemasses/"
      ]
    },
    {
      "cell_type": "markdown",
      "metadata": {
        "id": "jMxNN5Fz07p0"
      },
      "source": [
        "## The Case:\n",
        "#### Sarah is a regional sales manager for a nationwide supplier of fossil fuels for home heating. Recent volatility in market prices for heating oil specifically, coupled with wide variability in the size of each order for home heating oil, has Sarah concerned. She feels a need to understand the types of behaviors and other factors that may influence the demand for heating oil in the domestic market. What factors are related to heating oil usage, and how might she use a knowledge of such factors to better manage her inventory, and anticipate demand? Sarah believes that data mining can help her begin to formulate an understanding of these factors and interactions."
      ]
    },
    {
      "cell_type": "markdown",
      "metadata": {
        "id": "w5nzbIES07p0"
      },
      "source": [
        "#### After completing this exercise , you should be able to:\n",
        "\n",
        "- Explain what correlation is, and what it isn’t.\n",
        "- Develop a correlation model using Python.\n",
        "- Interpret the coefficients in a correlation matrix and explain their significance, if any."
      ]
    },
    {
      "cell_type": "markdown",
      "metadata": {
        "id": "jUPJV7El07p1"
      },
      "source": [
        "### Orgnazional Understanding\n",
        "#### Sarah’s goal is to better understand how her company can succeed in the home heating oil market. She recognizes that there are many factors that influence heating oil consumption, and believes that by investigating the relationship between a number of those factors, she will be able to better monitor and respond to heating oil demand. She has selected correlation as a way to model the relationship between the factors she wishes to investigate. Correlation is a statistical measure of how strong the relationships are between attributes in a data set."
      ]
    },
    {
      "cell_type": "markdown",
      "metadata": {
        "id": "J2izIeSS07p2"
      },
      "source": [
        "### Data Understanding\n",
        "#### In order to investigate her question, Sarah has enlisted our help in creating a correlation matrix of six attributes. Working together, using Sarah’s employer’s data resources which are primarily drawn from the company’s billing database, we create a data set comprised of the following attributes:\n",
        "- **Insulation:** This is a density rating, ranging from one to ten, indicating the thickness of each home’s insulation. A home with a density rating of one is poorly insulated, while a home with a density of ten has excellent insulation.\n",
        "- **Temperature:** This is the average outdoor ambient temperature at each home for the most recent year, measure in degree Fahrenheit.\n",
        "- **Heating_Oil:** This is the total number of units of heating oil purchased by the owner of each home in the most recent year.\n",
        "- **Num_Occupants:** This is the total number of occupants living in each home.\n",
        "- **Avg_Age:** This is the average age of those occupants.\n",
        "- **Home_Size:** This is a rating, on a scale of one to eight, of the home’s overall size. The higher the number, the larger the home."
      ]
    },
    {
      "cell_type": "markdown",
      "metadata": {
        "id": "kWjqAOHl07p4"
      },
      "source": [
        "## Data Analysis"
      ]
    },
    {
      "cell_type": "markdown",
      "metadata": {
        "id": "hJnx_QEm07p5"
      },
      "source": [
        "### (Step 1) Add a markdown/text cell below in which you should write your full name (properly formatted)"
      ]
    },
    {
      "cell_type": "code",
      "execution_count": 122,
      "metadata": {
        "id": "J6oaKK6q07p5"
      },
      "outputs": [],
      "source": [
        "# Kevin Galvan Serrano"
      ]
    },
    {
      "cell_type": "markdown",
      "metadata": {
        "id": "XUghTKG_07p5"
      },
      "source": [
        "### (Step 2 )Load the data file"
      ]
    },
    {
      "cell_type": "code",
      "execution_count": 123,
      "metadata": {
        "id": "GiWE4OA807p5"
      },
      "outputs": [],
      "source": [
        "# Now let's create another data frame (df2)for the heating oil example data\n",
        "# The data file, heating_oil.csv is located on my desktop in data folder\n",
        "# You should adjust the path to the data file on your computer as necessary\n",
        "\n",
        "df2 = pd.read_csv('/content/heating_oil.csv')"
      ]
    },
    {
      "cell_type": "markdown",
      "metadata": {
        "id": "WOUQNoJN07p6"
      },
      "source": [
        "###  (Step 3) Add as many code cells below as necessary to show heating oil data frame's top five rows, data types, size, and descriptive statistics"
      ]
    },
    {
      "cell_type": "code",
      "execution_count": 124,
      "metadata": {
        "id": "qU1k6c1207p6",
        "colab": {
          "base_uri": "https://localhost:8080/",
          "height": 206
        },
        "outputId": "17c0741b-9dde-442a-af75-04f6ab4b0635"
      },
      "outputs": [
        {
          "output_type": "execute_result",
          "data": {
            "text/html": [
              "\n",
              "  <div id=\"df-dc6e6d24-5306-4f9d-85d4-5e15108ef4dd\">\n",
              "    <div class=\"colab-df-container\">\n",
              "      <div>\n",
              "<style scoped>\n",
              "    .dataframe tbody tr th:only-of-type {\n",
              "        vertical-align: middle;\n",
              "    }\n",
              "\n",
              "    .dataframe tbody tr th {\n",
              "        vertical-align: top;\n",
              "    }\n",
              "\n",
              "    .dataframe thead th {\n",
              "        text-align: right;\n",
              "    }\n",
              "</style>\n",
              "<table border=\"1\" class=\"dataframe\">\n",
              "  <thead>\n",
              "    <tr style=\"text-align: right;\">\n",
              "      <th></th>\n",
              "      <th>Insulation</th>\n",
              "      <th>Temperature</th>\n",
              "      <th>Heating_Oil</th>\n",
              "      <th>Num_Occupants</th>\n",
              "      <th>Avg_Age</th>\n",
              "      <th>Home_Size</th>\n",
              "    </tr>\n",
              "  </thead>\n",
              "  <tbody>\n",
              "    <tr>\n",
              "      <th>0</th>\n",
              "      <td>6</td>\n",
              "      <td>74</td>\n",
              "      <td>132</td>\n",
              "      <td>4</td>\n",
              "      <td>23.8</td>\n",
              "      <td>4</td>\n",
              "    </tr>\n",
              "    <tr>\n",
              "      <th>1</th>\n",
              "      <td>10</td>\n",
              "      <td>43</td>\n",
              "      <td>263</td>\n",
              "      <td>4</td>\n",
              "      <td>56.7</td>\n",
              "      <td>4</td>\n",
              "    </tr>\n",
              "    <tr>\n",
              "      <th>2</th>\n",
              "      <td>3</td>\n",
              "      <td>81</td>\n",
              "      <td>145</td>\n",
              "      <td>2</td>\n",
              "      <td>28.0</td>\n",
              "      <td>6</td>\n",
              "    </tr>\n",
              "    <tr>\n",
              "      <th>3</th>\n",
              "      <td>9</td>\n",
              "      <td>50</td>\n",
              "      <td>196</td>\n",
              "      <td>4</td>\n",
              "      <td>45.1</td>\n",
              "      <td>3</td>\n",
              "    </tr>\n",
              "    <tr>\n",
              "      <th>4</th>\n",
              "      <td>2</td>\n",
              "      <td>80</td>\n",
              "      <td>131</td>\n",
              "      <td>5</td>\n",
              "      <td>20.8</td>\n",
              "      <td>2</td>\n",
              "    </tr>\n",
              "  </tbody>\n",
              "</table>\n",
              "</div>\n",
              "      <button class=\"colab-df-convert\" onclick=\"convertToInteractive('df-dc6e6d24-5306-4f9d-85d4-5e15108ef4dd')\"\n",
              "              title=\"Convert this dataframe to an interactive table.\"\n",
              "              style=\"display:none;\">\n",
              "        \n",
              "  <svg xmlns=\"http://www.w3.org/2000/svg\" height=\"24px\"viewBox=\"0 0 24 24\"\n",
              "       width=\"24px\">\n",
              "    <path d=\"M0 0h24v24H0V0z\" fill=\"none\"/>\n",
              "    <path d=\"M18.56 5.44l.94 2.06.94-2.06 2.06-.94-2.06-.94-.94-2.06-.94 2.06-2.06.94zm-11 1L8.5 8.5l.94-2.06 2.06-.94-2.06-.94L8.5 2.5l-.94 2.06-2.06.94zm10 10l.94 2.06.94-2.06 2.06-.94-2.06-.94-.94-2.06-.94 2.06-2.06.94z\"/><path d=\"M17.41 7.96l-1.37-1.37c-.4-.4-.92-.59-1.43-.59-.52 0-1.04.2-1.43.59L10.3 9.45l-7.72 7.72c-.78.78-.78 2.05 0 2.83L4 21.41c.39.39.9.59 1.41.59.51 0 1.02-.2 1.41-.59l7.78-7.78 2.81-2.81c.8-.78.8-2.07 0-2.86zM5.41 20L4 18.59l7.72-7.72 1.47 1.35L5.41 20z\"/>\n",
              "  </svg>\n",
              "      </button>\n",
              "      \n",
              "  <style>\n",
              "    .colab-df-container {\n",
              "      display:flex;\n",
              "      flex-wrap:wrap;\n",
              "      gap: 12px;\n",
              "    }\n",
              "\n",
              "    .colab-df-convert {\n",
              "      background-color: #E8F0FE;\n",
              "      border: none;\n",
              "      border-radius: 50%;\n",
              "      cursor: pointer;\n",
              "      display: none;\n",
              "      fill: #1967D2;\n",
              "      height: 32px;\n",
              "      padding: 0 0 0 0;\n",
              "      width: 32px;\n",
              "    }\n",
              "\n",
              "    .colab-df-convert:hover {\n",
              "      background-color: #E2EBFA;\n",
              "      box-shadow: 0px 1px 2px rgba(60, 64, 67, 0.3), 0px 1px 3px 1px rgba(60, 64, 67, 0.15);\n",
              "      fill: #174EA6;\n",
              "    }\n",
              "\n",
              "    [theme=dark] .colab-df-convert {\n",
              "      background-color: #3B4455;\n",
              "      fill: #D2E3FC;\n",
              "    }\n",
              "\n",
              "    [theme=dark] .colab-df-convert:hover {\n",
              "      background-color: #434B5C;\n",
              "      box-shadow: 0px 1px 3px 1px rgba(0, 0, 0, 0.15);\n",
              "      filter: drop-shadow(0px 1px 2px rgba(0, 0, 0, 0.3));\n",
              "      fill: #FFFFFF;\n",
              "    }\n",
              "  </style>\n",
              "\n",
              "      <script>\n",
              "        const buttonEl =\n",
              "          document.querySelector('#df-dc6e6d24-5306-4f9d-85d4-5e15108ef4dd button.colab-df-convert');\n",
              "        buttonEl.style.display =\n",
              "          google.colab.kernel.accessAllowed ? 'block' : 'none';\n",
              "\n",
              "        async function convertToInteractive(key) {\n",
              "          const element = document.querySelector('#df-dc6e6d24-5306-4f9d-85d4-5e15108ef4dd');\n",
              "          const dataTable =\n",
              "            await google.colab.kernel.invokeFunction('convertToInteractive',\n",
              "                                                     [key], {});\n",
              "          if (!dataTable) return;\n",
              "\n",
              "          const docLinkHtml = 'Like what you see? Visit the ' +\n",
              "            '<a target=\"_blank\" href=https://colab.research.google.com/notebooks/data_table.ipynb>data table notebook</a>'\n",
              "            + ' to learn more about interactive tables.';\n",
              "          element.innerHTML = '';\n",
              "          dataTable['output_type'] = 'display_data';\n",
              "          await google.colab.output.renderOutput(dataTable, element);\n",
              "          const docLink = document.createElement('div');\n",
              "          docLink.innerHTML = docLinkHtml;\n",
              "          element.appendChild(docLink);\n",
              "        }\n",
              "      </script>\n",
              "    </div>\n",
              "  </div>\n",
              "  "
            ],
            "text/plain": [
              "   Insulation  Temperature  Heating_Oil  Num_Occupants  Avg_Age  Home_Size\n",
              "0           6           74          132              4     23.8          4\n",
              "1          10           43          263              4     56.7          4\n",
              "2           3           81          145              2     28.0          6\n",
              "3           9           50          196              4     45.1          3\n",
              "4           2           80          131              5     20.8          2"
            ]
          },
          "metadata": {},
          "execution_count": 124
        }
      ],
      "source": [
        "# Top 5 rows in data frame\n",
        "df2.head()"
      ]
    },
    {
      "cell_type": "code",
      "execution_count": 125,
      "metadata": {
        "id": "t7r-jGxK07p6",
        "colab": {
          "base_uri": "https://localhost:8080/"
        },
        "outputId": "54b08e45-2aa6-4b41-b015-1d419fe9a89e"
      },
      "outputs": [
        {
          "output_type": "execute_result",
          "data": {
            "text/plain": [
              "(1218, 6)"
            ]
          },
          "metadata": {},
          "execution_count": 125
        }
      ],
      "source": [
        "# How many rows and columns in the data set\n",
        "df2.shape"
      ]
    },
    {
      "cell_type": "code",
      "execution_count": 126,
      "metadata": {
        "id": "5PRywPZo07p6",
        "colab": {
          "base_uri": "https://localhost:8080/"
        },
        "outputId": "578eaf8f-bc1c-4e81-c5b0-16192ad36488"
      },
      "outputs": [
        {
          "output_type": "execute_result",
          "data": {
            "text/plain": [
              "Insulation         int64\n",
              "Temperature        int64\n",
              "Heating_Oil        int64\n",
              "Num_Occupants      int64\n",
              "Avg_Age          float64\n",
              "Home_Size          int64\n",
              "dtype: object"
            ]
          },
          "metadata": {},
          "execution_count": 126
        }
      ],
      "source": [
        "# What data types are in the data set\n",
        "df2.dtypes"
      ]
    },
    {
      "cell_type": "code",
      "source": [
        "# What data types have missing values in the dataset?\n",
        "missing = df2.isnull().sum().sort_values(ascending=False)\n",
        "missing"
      ],
      "metadata": {
        "colab": {
          "base_uri": "https://localhost:8080/"
        },
        "id": "PiQZtVRnbw7H",
        "outputId": "a7143d26-734d-4a3c-ab38-6a70aead1851"
      },
      "execution_count": 127,
      "outputs": [
        {
          "output_type": "execute_result",
          "data": {
            "text/plain": [
              "Insulation       0\n",
              "Temperature      0\n",
              "Heating_Oil      0\n",
              "Num_Occupants    0\n",
              "Avg_Age          0\n",
              "Home_Size        0\n",
              "dtype: int64"
            ]
          },
          "metadata": {},
          "execution_count": 127
        }
      ]
    },
    {
      "cell_type": "code",
      "source": [
        "# Size of the data frame\n",
        "df2.size"
      ],
      "metadata": {
        "colab": {
          "base_uri": "https://localhost:8080/"
        },
        "id": "UtzFFgsCcCUe",
        "outputId": "16870e7b-301d-4459-d888-2681dcadea95"
      },
      "execution_count": 128,
      "outputs": [
        {
          "output_type": "execute_result",
          "data": {
            "text/plain": [
              "7308"
            ]
          },
          "metadata": {},
          "execution_count": 128
        }
      ]
    },
    {
      "cell_type": "markdown",
      "metadata": {
        "id": "A66iKRu907p6"
      },
      "source": [
        "### (Step 4)  Add a code cell below in which you should write and run the code to create a scatter plot with any two or three variables from the heating oil data frame"
      ]
    },
    {
      "cell_type": "code",
      "execution_count": 129,
      "metadata": {
        "id": "KqB8K96f07p6",
        "colab": {
          "base_uri": "https://localhost:8080/",
          "height": 514
        },
        "outputId": "c77b59ed-e151-428d-f4a9-f7778cf27ff9"
      },
      "outputs": [
        {
          "output_type": "stream",
          "name": "stderr",
          "text": [
            "/usr/local/lib/python3.7/dist-packages/seaborn/_decorators.py:43: FutureWarning: Pass the following variables as keyword args: x, y, hue, size. From version 0.12, the only valid positional argument will be `data`, and passing other arguments without an explicit keyword will result in an error or misinterpretation.\n",
            "  FutureWarning\n"
          ]
        },
        {
          "output_type": "execute_result",
          "data": {
            "text/plain": [
              "<seaborn.axisgrid.FacetGrid at 0x7fa026925710>"
            ]
          },
          "metadata": {},
          "execution_count": 129
        },
        {
          "output_type": "display_data",
          "data": {
            "image/png": "[encoded data removed]",
            "text/plain": [
              "<Figure size 529.5x432 with 1 Axes>"
            ]
          },
          "metadata": {
            "needs_background": "light"
          }
        }
      ],
      "source": [
        "x = \"Heating_Oil\"\n",
        "y=\"Temperature\"\n",
        "size = \"Num_Occupants\"\n",
        "hue = \"Home_Size\"\n",
        "sns.relplot(x, y, hue, size,\n",
        "            sizes=(40, 400), alpha=.5, palette=\"winter_r\",\n",
        "            height=6, data=df2)"
      ]
    },
    {
      "cell_type": "markdown",
      "metadata": {
        "id": "z0r3Eoy207p7"
      },
      "source": [
        "### (Step 5) Add a code cell below in which you should write and run the code to create correlation matrix for the heating oil data variables"
      ]
    },
    {
      "cell_type": "code",
      "source": [
        "# Remove the ID column\n",
        "df2 = df2[[\"Insulation\", \"Temperature\", \"Heating_Oil\", \"Num_Occupants\", \"Avg_Age\", \"Home_Size\"]]\n",
        "\n",
        "# Create a correlation table\n",
        "df2_corr = df2.corr(method='pearson')\n",
        "df2_corr"
      ],
      "metadata": {
        "colab": {
          "base_uri": "https://localhost:8080/",
          "height": 238
        },
        "id": "uHU-q24kkOh2",
        "outputId": "6d3794ac-f7e2-4e43-83b8-f38caf62c1fc"
      },
      "execution_count": 130,
      "outputs": [
        {
          "output_type": "execute_result",
          "data": {
            "text/html": [
              "\n",
              "  <div id=\"df-7b43a69d-33eb-475e-9810-4849a7f867c6\">\n",
              "    <div class=\"colab-df-container\">\n",
              "      <div>\n",
              "<style scoped>\n",
              "    .dataframe tbody tr th:only-of-type {\n",
              "        vertical-align: middle;\n",
              "    }\n",
              "\n",
              "    .dataframe tbody tr th {\n",
              "        vertical-align: top;\n",
              "    }\n",
              "\n",
              "    .dataframe thead th {\n",
              "        text-align: right;\n",
              "    }\n",
              "</style>\n",
              "<table border=\"1\" class=\"dataframe\">\n",
              "  <thead>\n",
              "    <tr style=\"text-align: right;\">\n",
              "      <th></th>\n",
              "      <th>Insulation</th>\n",
              "      <th>Temperature</th>\n",
              "      <th>Heating_Oil</th>\n",
              "      <th>Num_Occupants</th>\n",
              "      <th>Avg_Age</th>\n",
              "      <th>Home_Size</th>\n",
              "    </tr>\n",
              "  </thead>\n",
              "  <tbody>\n",
              "    <tr>\n",
              "      <th>Insulation</th>\n",
              "      <td>1.000000</td>\n",
              "      <td>-0.793696</td>\n",
              "      <td>0.736097</td>\n",
              "      <td>-0.012567</td>\n",
              "      <td>0.642982</td>\n",
              "      <td>0.200712</td>\n",
              "    </tr>\n",
              "    <tr>\n",
              "      <th>Temperature</th>\n",
              "      <td>-0.793696</td>\n",
              "      <td>1.000000</td>\n",
              "      <td>-0.773660</td>\n",
              "      <td>0.012519</td>\n",
              "      <td>-0.672579</td>\n",
              "      <td>-0.213939</td>\n",
              "    </tr>\n",
              "    <tr>\n",
              "      <th>Heating_Oil</th>\n",
              "      <td>0.736097</td>\n",
              "      <td>-0.773660</td>\n",
              "      <td>1.000000</td>\n",
              "      <td>-0.041635</td>\n",
              "      <td>0.847891</td>\n",
              "      <td>0.381191</td>\n",
              "    </tr>\n",
              "    <tr>\n",
              "      <th>Num_Occupants</th>\n",
              "      <td>-0.012567</td>\n",
              "      <td>0.012519</td>\n",
              "      <td>-0.041635</td>\n",
              "      <td>1.000000</td>\n",
              "      <td>-0.048034</td>\n",
              "      <td>-0.022534</td>\n",
              "    </tr>\n",
              "    <tr>\n",
              "      <th>Avg_Age</th>\n",
              "      <td>0.642982</td>\n",
              "      <td>-0.672579</td>\n",
              "      <td>0.847891</td>\n",
              "      <td>-0.048034</td>\n",
              "      <td>1.000000</td>\n",
              "      <td>0.306557</td>\n",
              "    </tr>\n",
              "    <tr>\n",
              "      <th>Home_Size</th>\n",
              "      <td>0.200712</td>\n",
              "      <td>-0.213939</td>\n",
              "      <td>0.381191</td>\n",
              "      <td>-0.022534</td>\n",
              "      <td>0.306557</td>\n",
              "      <td>1.000000</td>\n",
              "    </tr>\n",
              "  </tbody>\n",
              "</table>\n",
              "</div>\n",
              "      <button class=\"colab-df-convert\" onclick=\"convertToInteractive('df-7b43a69d-33eb-475e-9810-4849a7f867c6')\"\n",
              "              title=\"Convert this dataframe to an interactive table.\"\n",
              "              style=\"display:none;\">\n",
              "        \n",
              "  <svg xmlns=\"http://www.w3.org/2000/svg\" height=\"24px\"viewBox=\"0 0 24 24\"\n",
              "       width=\"24px\">\n",
              "    <path d=\"M0 0h24v24H0V0z\" fill=\"none\"/>\n",
              "    <path d=\"M18.56 5.44l.94 2.06.94-2.06 2.06-.94-2.06-.94-.94-2.06-.94 2.06-2.06.94zm-11 1L8.5 8.5l.94-2.06 2.06-.94-2.06-.94L8.5 2.5l-.94 2.06-2.06.94zm10 10l.94 2.06.94-2.06 2.06-.94-2.06-.94-.94-2.06-.94 2.06-2.06.94z\"/><path d=\"M17.41 7.96l-1.37-1.37c-.4-.4-.92-.59-1.43-.59-.52 0-1.04.2-1.43.59L10.3 9.45l-7.72 7.72c-.78.78-.78 2.05 0 2.83L4 21.41c.39.39.9.59 1.41.59.51 0 1.02-.2 1.41-.59l7.78-7.78 2.81-2.81c.8-.78.8-2.07 0-2.86zM5.41 20L4 18.59l7.72-7.72 1.47 1.35L5.41 20z\"/>\n",
              "  </svg>\n",
              "      </button>\n",
              "      \n",
              "  <style>\n",
              "    .colab-df-container {\n",
              "      display:flex;\n",
              "      flex-wrap:wrap;\n",
              "      gap: 12px;\n",
              "    }\n",
              "\n",
              "    .colab-df-convert {\n",
              "      background-color: #E8F0FE;\n",
              "      border: none;\n",
              "      border-radius: 50%;\n",
              "      cursor: pointer;\n",
              "      display: none;\n",
              "      fill: #1967D2;\n",
              "      height: 32px;\n",
              "      padding: 0 0 0 0;\n",
              "      width: 32px;\n",
              "    }\n",
              "\n",
              "    .colab-df-convert:hover {\n",
              "      background-color: #E2EBFA;\n",
              "      box-shadow: 0px 1px 2px rgba(60, 64, 67, 0.3), 0px 1px 3px 1px rgba(60, 64, 67, 0.15);\n",
              "      fill: #174EA6;\n",
              "    }\n",
              "\n",
              "    [theme=dark] .colab-df-convert {\n",
              "      background-color: #3B4455;\n",
              "      fill: #D2E3FC;\n",
              "    }\n",
              "\n",
              "    [theme=dark] .colab-df-convert:hover {\n",
              "      background-color: #434B5C;\n",
              "      box-shadow: 0px 1px 3px 1px rgba(0, 0, 0, 0.15);\n",
              "      filter: drop-shadow(0px 1px 2px rgba(0, 0, 0, 0.3));\n",
              "      fill: #FFFFFF;\n",
              "    }\n",
              "  </style>\n",
              "\n",
              "      <script>\n",
              "        const buttonEl =\n",
              "          document.querySelector('#df-7b43a69d-33eb-475e-9810-4849a7f867c6 button.colab-df-convert');\n",
              "        buttonEl.style.display =\n",
              "          google.colab.kernel.accessAllowed ? 'block' : 'none';\n",
              "\n",
              "        async function convertToInteractive(key) {\n",
              "          const element = document.querySelector('#df-7b43a69d-33eb-475e-9810-4849a7f867c6');\n",
              "          const dataTable =\n",
              "            await google.colab.kernel.invokeFunction('convertToInteractive',\n",
              "                                                     [key], {});\n",
              "          if (!dataTable) return;\n",
              "\n",
              "          const docLinkHtml = 'Like what you see? Visit the ' +\n",
              "            '<a target=\"_blank\" href=https://colab.research.google.com/notebooks/data_table.ipynb>data table notebook</a>'\n",
              "            + ' to learn more about interactive tables.';\n",
              "          element.innerHTML = '';\n",
              "          dataTable['output_type'] = 'display_data';\n",
              "          await google.colab.output.renderOutput(dataTable, element);\n",
              "          const docLink = document.createElement('div');\n",
              "          docLink.innerHTML = docLinkHtml;\n",
              "          element.appendChild(docLink);\n",
              "        }\n",
              "      </script>\n",
              "    </div>\n",
              "  </div>\n",
              "  "
            ],
            "text/plain": [
              "               Insulation  Temperature  Heating_Oil  Num_Occupants   Avg_Age  \\\n",
              "Insulation       1.000000    -0.793696     0.736097      -0.012567  0.642982   \n",
              "Temperature     -0.793696     1.000000    -0.773660       0.012519 -0.672579   \n",
              "Heating_Oil      0.736097    -0.773660     1.000000      -0.041635  0.847891   \n",
              "Num_Occupants   -0.012567     0.012519    -0.041635       1.000000 -0.048034   \n",
              "Avg_Age          0.642982    -0.672579     0.847891      -0.048034  1.000000   \n",
              "Home_Size        0.200712    -0.213939     0.381191      -0.022534  0.306557   \n",
              "\n",
              "               Home_Size  \n",
              "Insulation      0.200712  \n",
              "Temperature    -0.213939  \n",
              "Heating_Oil     0.381191  \n",
              "Num_Occupants  -0.022534  \n",
              "Avg_Age         0.306557  \n",
              "Home_Size       1.000000  "
            ]
          },
          "metadata": {},
          "execution_count": 130
        }
      ]
    },
    {
      "cell_type": "code",
      "execution_count": 131,
      "metadata": {
        "id": "nXEPiFQE07p7",
        "colab": {
          "base_uri": "https://localhost:8080/",
          "height": 358
        },
        "outputId": "1b3ed43f-098a-42e0-92a9-f580cccf09fd"
      },
      "outputs": [
        {
          "output_type": "execute_result",
          "data": {
            "text/plain": [
              "<matplotlib.axes._subplots.AxesSubplot at 0x7fa02686ecd0>"
            ]
          },
          "metadata": {},
          "execution_count": 131
        },
        {
          "output_type": "display_data",
          "data": {
            "image/png": "[encoded data removed]",
            "text/plain": [
              "<Figure size 432x288 with 2 Axes>"
            ]
          },
          "metadata": {
            "needs_background": "light"
          }
        }
      ],
      "source": [
        "sns.heatmap(df2_corr,xticklabels=df2_corr.columns,\n",
        "            yticklabels=df2_corr.columns)"
      ]
    },
    {
      "cell_type": "markdown",
      "metadata": {
        "id": "k5-Ed10F07p7"
      },
      "source": [
        "### (Step 6) Add a Markdown or Text cell below tin which you should please write formatted text to answer the following questions: (1) How do you interpret correlation between insulation and heating oil usage? (2) Why do you think there's a positive correlation between these two variables?"
      ]
    },
    {
      "cell_type": "code",
      "execution_count": 132,
      "metadata": {
        "id": "jbA7I43S07p7"
      },
      "outputs": [],
      "source": [
        "# 1) The correlation between insulation and heating oil usage is relatively high at 0.736097\n",
        "# 2) There is a positive correlation between these two variables because in general, a house with a higher insulation will require less heating oil in order to heat up the entire house. Therefore resulting in a positive correlation."
      ]
    }
  ],
  "metadata": {
    "kernelspec": {
      "display_name": "Python 3",
      "language": "python",
      "name": "python3"
    },
    "language_info": {
      "codemirror_mode": {
        "name": "ipython",
        "version": 3
      },
      "file_extension": ".py",
      "mimetype": "text/x-python",
      "name": "python",
      "nbconvert_exporter": "python",
      "pygments_lexer": "ipython3",
      "version": "3.7.6"
    },
    "colab": {
      "name": "Kevin Galvan Serrano - HW5.ipynb",
      "provenance": []
    }
  },
  "nbformat": 4,
  "nbformat_minor": 0
}