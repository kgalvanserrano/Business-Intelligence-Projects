{
  "nbformat": 4,
  "nbformat_minor": 0,
  "metadata": {
    "colab": {
      "name": "HW4",
      "provenance": []
    },
    "kernelspec": {
      "name": "python3",
      "display_name": "Python 3"
    },
    "language_info": {
      "name": "python"
    }
  },
  "cells": [
    {
      "cell_type": "markdown",
      "source": [
        "Kevin Galvan Serrano"
      ],
      "metadata": {
        "id": "cns5-1wMPo_s"
      }
    },
    {
      "cell_type": "code",
      "execution_count": 41,
      "metadata": {
        "id": "41UialenOkew"
      },
      "outputs": [],
      "source": [
        "#importing pandas\n",
        "import pandas as pd"
      ]
    },
    {
      "cell_type": "code",
      "source": [
        "#loading in dataframe from HW4\n",
        "df=pd.read_csv('employees.csv')"
      ],
      "metadata": {
        "id": "l2clkd1FPxF2"
      },
      "execution_count": 42,
      "outputs": []
    },
    {
      "cell_type": "code",
      "source": [
        "#printing shape and data\n",
        "print(f'\\n\\nShape : {data.shape}')\n",
        "print(f'\\nDescriptive Stats :\\n{data.describe}')"
      ],
      "metadata": {
        "colab": {
          "base_uri": "https://localhost:8080/"
        },
        "id": "wARo4h1bP0uM",
        "outputId": "48baa82a-0d10-4503-c252-f73334d613e7"
      },
      "execution_count": 43,
      "outputs": [
        {
          "output_type": "stream",
          "name": "stdout",
          "text": [
            "\n",
            "\n",
            "Shape : (14, 8)\n",
            "\n",
            "Descriptive Stats :\n",
            "<bound method NDFrame.describe of     EMPNO   ENAME        JOB   MGR   HIREDATE   SAL    COMM  DEPTNO\n",
            "0    7839    KING  PRESIDENT    -   17-Nov-81  5000     NaN      10\n",
            "1    7698   BLAKE    MANAGER  7839   1-May-81  2850     NaN      30\n",
            "2    7782   CLARK    MANAGER  7839   9-Jun-81  2450     NaN      10\n",
            "3    7566   JONES    MANAGER  7839   2-Apr-81  2975     NaN      20\n",
            "4    7788   SCOTT    ANALYST  7566  19-Apr-87  3000     NaN      20\n",
            "5    7902    FORD    ANALYST  7566   3-Dec-81  3000     NaN      20\n",
            "6    7369   SMITH      CLERK  7902  17-Dec-80   800     NaN      20\n",
            "7    7499   ALLEN   SALESMAN  7698  20-Feb-81  1600   300.0      30\n",
            "8    7521    WARD   SALESMAN  7698  22-Feb-81  1250   500.0      30\n",
            "9    7654  MARTIN   SALESMAN  7698  28-Sep-81  1250  1400.0      30\n",
            "10   7844  TURNER   SALESMAN  7698   8-Sep-81  1500     0.0      30\n",
            "11   7876   ADAMS      CLERK  7788  23-May-87  1100     NaN      20\n",
            "12   7900   JAMES      CLERK  7698   3-Dec-81   950     NaN      30\n",
            "13   7934  MILLER      CLERK  7782  23-Jan-82  1300     NaN      10>\n"
          ]
        }
      ]
    },
    {
      "cell_type": "code",
      "source": [
        "#renaming data frame\n",
        "df.rename(columns={'ENAME':'Employee_name'},inplace=True)"
      ],
      "metadata": {
        "id": "dLqJ1W28P3KI"
      },
      "execution_count": 44,
      "outputs": []
    },
    {
      "cell_type": "code",
      "source": [
        "#creating new dataframe\n",
        "new_df=df.iloc[:,1:]"
      ],
      "metadata": {
        "id": "J5Di1hQvRKpA"
      },
      "execution_count": 45,
      "outputs": []
    },
    {
      "cell_type": "code",
      "source": [
        "#printing head of new dataframe\n",
        "print(new_df.head())"
      ],
      "metadata": {
        "colab": {
          "base_uri": "https://localhost:8080/"
        },
        "id": "YUKWCvMIP6L3",
        "outputId": "2bdd2fd0-f509-4aab-b194-9020757608fd"
      },
      "execution_count": 46,
      "outputs": [
        {
          "output_type": "stream",
          "name": "stdout",
          "text": [
            "  Employee_name        JOB   MGR   HIREDATE   SAL  COMM  DEPTNO\n",
            "0          KING  PRESIDENT    -   17-Nov-81  5000   NaN      10\n",
            "1         BLAKE    MANAGER  7839   1-May-81  2850   NaN      30\n",
            "2         CLARK    MANAGER  7839   9-Jun-81  2450   NaN      10\n",
            "3         JONES    MANAGER  7839   2-Apr-81  2975   NaN      20\n",
            "4         SCOTT    ANALYST  7566  19-Apr-87  3000   NaN      20\n"
          ]
        }
      ]
    }
  ]
}